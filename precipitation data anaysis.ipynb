{
    "cells": [
        {
            "metadata": {},
            "cell_type": "code",
            "source": "print(\"hello\")",
            "execution_count": 2,
            "outputs": [
                {
                    "output_type": "stream",
                    "text": "hello\n",
                    "name": "stdout"
                }
            ]
        },
        {
            "metadata": {},
            "cell_type": "code",
            "source": "import turtle  \n# Creating turtle  \nt = turtle.Turtle()  \ns = turtle.Screen()  \ns.bgcolor(\"black\")  \n  \nturtle.pensize(2)  \n  \n# To design curve  \ndef curve():  \n    for i in range(200):  \n        t.right(1)  \n        t.forward(1)  \n  \nt. speed(1)  \nt.color(\"red\", \"pink\")  \n  \nt.begin_fill()  \nt.left(140)  \nt.forward(111.65)  \ncurve()  \n  \nt.left(120)  \ncurve()  \nt.forward(111.65)  \nt.end_fill()  \nt.hideturtle()  \n  \nturtle.mainloop()  ",
            "execution_count": null,
            "outputs": []
        },
        {
            "metadata": {},
            "cell_type": "code",
            "source": " ",
            "execution_count": null,
            "outputs": []
        }
    ],
    "metadata": {
        "kernelspec": {
            "name": "python3",
            "display_name": "Python 3.9",
            "language": "python"
        },
        "language_info": {
            "name": "python",
            "version": "3.9.12",
            "mimetype": "text/x-python",
            "codemirror_mode": {
                "name": "ipython",
                "version": 3
            },
            "pygments_lexer": "ipython3",
            "nbconvert_exporter": "python",
            "file_extension": ".py"
        }
    },
    "nbformat": 4,
    "nbformat_minor": 1
}